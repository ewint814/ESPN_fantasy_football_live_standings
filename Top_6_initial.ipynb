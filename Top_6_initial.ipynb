{
 "cells": [
  {
   "cell_type": "code",
   "execution_count": 1,
   "id": "ee23477a-f18e-45b0-8000-1e53c324b8d3",
   "metadata": {},
   "outputs": [],
   "source": [
    "from espn_api.football import League\n",
    "import pandas as pd\n",
    "from flask import Flask, render_template\n",
    "import threading\n",
    "import time"
   ]
  },
  {
   "cell_type": "code",
   "execution_count": 2,
   "id": "ab5e7246-5466-4d0b-b2aa-75282a85c9f5",
   "metadata": {},
   "outputs": [],
   "source": [
    "# private league with cookies\n",
    "league = League(league_id=637021, year=2024, espn_s2='AEBCCakbu%2B0%2FhbFeK5%2FgjfgBqJJfZKHfNjzHL2jCCx75d%2BXAUfjrRUGlUYOU%2BDcMyLnvZF9ASrpPFx%2Fd5IA4P8Yq1qMhcRE%2BqSa10zDy8NknbQWjzwKh3OVfI%2FCVZd2eKwMSzCNk54bD4FYRXMOMOVCp%2BwzXrZvHaoKs9nbe3Bsm%2BaKhCXOQ02AZbkrcGq%2B2naO9aSY3cXRoDjZaFgxYYcJnl7K23qiSoNPtt5MDZNjTeWFomxWJoC8Q84ob%2BrCve1L1ovlMK6Kg9KJ%2Br6UIYT2O', swid='{1BFA93C2-363A-4C34-A4BD-E6CE5E0C309B}')"
   ]
  },
  {
   "cell_type": "code",
   "execution_count": 3,
   "id": "bc7e817b-5701-4e11-a6fe-4886d9af48d8",
   "metadata": {},
   "outputs": [],
   "source": [
    "# Flask App\n",
    "app = Flask(__name__)"
   ]
  },
  {
   "cell_type": "code",
   "execution_count": 23,
   "id": "e4b76853-74f4-4e5d-885d-bef1d9e68970",
   "metadata": {},
   "outputs": [],
   "source": [
    "def get_team_scores_with_starters(league, week):\n",
    "    \"\"\"\n",
    "    Fetch live scores and determine:\n",
    "    1. Starters currently playing (not labeled 'BE').\n",
    "    2. Starters yet to start their games (not labeled 'BE').\n",
    "    If no players are found, return descriptive messages.\n",
    "    \"\"\"\n",
    "    box_scores = league.box_scores(week=week)\n",
    "    scores_and_players = []\n",
    "\n",
    "    # Map team IDs to Team objects for easy lookup\n",
    "    team_lookup = {team.team_id: team for team in league.teams}\n",
    "\n",
    "    for game in box_scores:\n",
    "        for team_id, lineup, score in [\n",
    "            (game.home_team, game.home_lineup, game.home_score),\n",
    "            (game.away_team, game.away_lineup, game.away_score)\n",
    "        ]:\n",
    "            # Resolve the team object from the team ID\n",
    "            if isinstance(team_id, int):\n",
    "                team = team_lookup.get(team_id)\n",
    "            else:\n",
    "                team = team_id  # Already a Team object\n",
    "\n",
    "            # Handle case where team is None (unlikely but possible)\n",
    "            team_name = team.team_name if team else \"Unknown Team\"\n",
    "\n",
    "            # Filter players who are not on the bench\n",
    "            currently_playing = [\n",
    "                player.name for player in lineup\n",
    "                if player.slot_position != \"BE\"  # Exclude bench players\n",
    "                and player.points > 0  # Player is currently playing\n",
    "                and player.game_played == 1  # Game is in progress\n",
    "            ]\n",
    "\n",
    "            not_started = [\n",
    "                player.name for player in lineup\n",
    "                if player.slot_position != \"BE\"  # Exclude bench players\n",
    "                and player.game_played == 0  # Game has not started\n",
    "            ]\n",
    "\n",
    "            # Handle cases with no players in each category\n",
    "            if not currently_playing:\n",
    "                currently_playing = [\"No players playing\"]\n",
    "            if not not_started:\n",
    "                not_started = [\"All players played\"]\n",
    "\n",
    "            # Add team data to the list\n",
    "            scores_and_players.append({\n",
    "                'Team Name': team_name,\n",
    "                'Live Score': score,\n",
    "                'Starters Currently Playing': \", \".join(currently_playing),\n",
    "                'Starters Yet to Play': \", \".join(not_started)\n",
    "            })\n",
    "\n",
    "    return scores_and_players"
   ]
  },
  {
   "cell_type": "code",
   "execution_count": 24,
   "id": "7cfefc72-2bd5-4e2e-9ed2-0478f4d2efe2",
   "metadata": {},
   "outputs": [
    {
     "name": "stdout",
     "output_type": "stream",
     "text": [
      "{'Team Name': 'Enflamed Pancreases', 'Live Score': 1.7, 'Starters Currently Playing': 'No players playing', 'Starters Yet to Play': 'Garrett Wilson, Puka Nacua, Alvin Kamara, Brock Bowers, Jayden Daniels, Jaxon Smith-Njigba, Saquon Barkley, Cameron Dicker, Broncos D/ST'}\n",
      "{'Team Name': 'Unknown Team', 'Live Score': 0, 'Starters Currently Playing': 'No players playing', 'Starters Yet to Play': 'All players played'}\n",
      "{'Team Name': 'PartyLikeA GronkStar', 'Live Score': 0.0, 'Starters Currently Playing': 'No players playing', 'Starters Yet to Play': 'Breece Hall, Derrick Henry, Mike Evans, Josh Allen, David Njoku, Jameson Williams, Chuba Hubbard, Chris Boswell, Bengals D/ST'}\n",
      "{'Team Name': 'Beermile Champ', 'Live Score': 2.3, 'Starters Currently Playing': 'No players playing', 'Starters Yet to Play': \"Ja'Marr Chase, Nico Collins, Patrick Mahomes, Brian Robinson Jr., Jauan Jennings, Rhamondre Stevenson, Jonnu Smith, Matthew Wright, Packers D/ST\"}\n",
      "{'Team Name': 'Picks come 1st @anna🐐', 'Live Score': 0.0, 'Starters Currently Playing': 'No players playing', 'Starters Yet to Play': \"Amon-Ra St. Brown, Drake London, De'Von Achane, Trey McBride, Jalen Hurts, Chase Brown, Khalil Shakir, Brandon Aubrey, Steelers D/ST\"}\n",
      "{'Team Name': 'Sacko King', 'Live Score': 0.0, 'Starters Currently Playing': 'No players playing', 'Starters Yet to Play': 'Jahmyr Gibbs, DJ Moore, Travis Kelce, Joe Burrow, Aaron Jones, Christian Watson, Quentin Johnston, Jake Bates, Ravens D/ST'}\n",
      "{'Team Name': 'Jackie Wack', 'Live Score': 0.0, 'Starters Currently Playing': 'No players playing', 'Starters Yet to Play': 'A.J. Brown, Malik Nabers, Joe Mixon, Lamar Jackson, David Montgomery, Courtland Sutton, Jake Ferguson, Wil Lutz, Cardinals D/ST'}\n",
      "{'Team Name': 'Unknown Team', 'Live Score': 0, 'Starters Currently Playing': 'No players playing', 'Starters Yet to Play': 'All players played'}\n",
      "{'Team Name': 'Shanyone have  An open house?', 'Live Score': 0.0, 'Starters Currently Playing': 'No players playing', 'Starters Yet to Play': 'Terry McLaurin, Sam Darnold, Jakobi Meyers, Josh Jacobs, Tony Pollard, Tyler Bass, Pat Freiermuth, Hunter Henry, Commanders D/ST'}\n",
      "{'Team Name': 'Team floop', 'Live Score': 6.54, 'Starters Currently Playing': 'No players playing', 'Starters Yet to Play': 'Bijan Robinson, Rachaad White, Tee Higgins, George Kittle, Brock Purdy, Jerry Jeudy, Eagles D/ST, Jordan Addison, Jake Elliott'}\n",
      "{'Team Name': 'Big Bad and Bald ', 'Live Score': 9.4, 'Starters Currently Playing': 'No players playing', 'Starters Yet to Play': 'Tyreek Hill, Kyren Williams, Deebo Samuel Sr., James Conner, Evan Engram, Brian Thomas Jr., Baker Mayfield, Bears D/ST, Jake Moody'}\n",
      "{'Team Name': 'Team Kosowsky', 'Live Score': 0.0, 'Starters Currently Playing': 'No players playing', 'Starters Yet to Play': \"Justin Jefferson, James Cook, Sam LaPorta, D'Andre Swift, George Pickens, CeeDee Lamb, Dolphins D/ST, Jason Sanders, Jared Goff\"}\n",
      "{'Team Name': 'Coach JoFro', 'Live Score': 3.0, 'Starters Currently Playing': 'No players playing', 'Starters Yet to Play': 'Cooper Kupp, Marvin Harrison Jr., Jaylen Waddle, Javonte Williams, Tucker Kraft, Vikings D/ST, Justin Herbert, Isaac Guerendo, Nick Folk'}\n",
      "{'Team Name': 'Shira Movsits On My Face', 'Live Score': 0.0, 'Starters Currently Playing': 'No players playing', 'Starters Yet to Play': 'DK Metcalf, Zay Flowers, DeVonta Smith, Tyrone Tracy Jr., Gus Edwards, Kyler Murray, T.J. Hockenson, Chase McLaughlin, Chiefs D/ST'}\n"
     ]
    }
   ],
   "source": [
    "week = 15  # Replace with the current week\n",
    "scores_and_players = get_team_scores_with_starters(league, week)\n",
    "\n",
    "# Print results\n",
    "for entry in scores_and_players:\n",
    "    print(entry)"
   ]
  },
  {
   "cell_type": "code",
   "execution_count": 15,
   "id": "53e3ba04-0570-4e31-ae89-ce0fd4206ba3",
   "metadata": {},
   "outputs": [
    {
     "name": "stdout",
     "output_type": "stream",
     "text": [
      "<class 'espn_api.football.team.Team'>\n",
      "Team(Team floop)\n"
     ]
    }
   ],
   "source": [
    "for game in box_scores:\n",
    "    print(type(game.home_team))\n",
    "    print(game.home_team)\n",
    "    break\n"
   ]
  },
  {
   "cell_type": "code",
   "execution_count": 27,
   "id": "428a1a03-41ec-4a83-9748-bd55ac3d15e6",
   "metadata": {},
   "outputs": [
    {
     "name": "stdout",
     "output_type": "stream",
     "text": [
      " * Serving Flask app '__main__'\n",
      " * Debug mode: on\n"
     ]
    },
    {
     "name": "stderr",
     "output_type": "stream",
     "text": [
      "WARNING: This is a development server. Do not use it in a production deployment. Use a production WSGI server instead.\n",
      " * Running on all addresses (0.0.0.0)\n",
      " * Running on http://127.0.0.1:5000\n",
      " * Running on http://192.168.1.13:5000\n",
      "Press CTRL+C to quit\n",
      " * Restarting with watchdog (windowsapi)\n"
     ]
    },
    {
     "ename": "SystemExit",
     "evalue": "1",
     "output_type": "error",
     "traceback": [
      "An exception has occurred, use %tb to see the full traceback.\n",
      "\u001b[1;31mSystemExit\u001b[0m\u001b[1;31m:\u001b[0m 1\n"
     ]
    }
   ],
   "source": []
  },
  {
   "cell_type": "code",
   "execution_count": null,
   "id": "4c1164da-61c1-4135-9589-692c27c0a3a0",
   "metadata": {},
   "outputs": [],
   "source": []
  }
 ],
 "metadata": {
  "kernelspec": {
   "display_name": "Python 3 (ipykernel)",
   "language": "python",
   "name": "python3"
  },
  "language_info": {
   "codemirror_mode": {
    "name": "ipython",
    "version": 3
   },
   "file_extension": ".py",
   "mimetype": "text/x-python",
   "name": "python",
   "nbconvert_exporter": "python",
   "pygments_lexer": "ipython3",
   "version": "3.12.4"
  }
 },
 "nbformat": 4,
 "nbformat_minor": 5
}
